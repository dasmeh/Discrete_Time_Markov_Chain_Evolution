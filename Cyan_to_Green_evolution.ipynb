{
 "cells": [
  {
   "cell_type": "markdown",
   "metadata": {},
   "source": [
    "### Simulation of cyan fluorescence in GFP populations using Discrete Time Markov Chains"
   ]
  },
  {
   "cell_type": "code",
   "execution_count": 24,
   "metadata": {},
   "outputs": [],
   "source": [
    "rm(list = ls())"
   ]
  },
  {
   "cell_type": "code",
   "execution_count": 25,
   "metadata": {},
   "outputs": [],
   "source": [
    "### Load all the releveant libraries\n",
    "library(\"pracma\")\n",
    "library(\"flowCore\")\n",
    "library(\"caTools\")\n",
    "library(\"mixtools\")\n",
    "library(\"fitdistrplus\")\n",
    "library(\"SIBERG\")\n",
    "library(\"scatterplot3d\") "
   ]
  },
  {
   "cell_type": "code",
   "execution_count": 30,
   "metadata": {},
   "outputs": [],
   "source": [
    "### Set the physical constants for simulations\n",
    "\n",
    "T=37;        # Temp in centigrade\n",
    "R=1.98e-3;   # Gas constant in Kcal/K/mol\n",
    "beta=1/(R*(273+T));   # Boltzmann constant\n",
    "\n",
    "### The range of accessible Free energy of folding\n",
    "DG=seq(-20, 0, 0.1)"
   ]
  },
  {
   "cell_type": "markdown",
   "metadata": {},
   "source": [
    "## Simulating the evolution GFP to Cyan "
   ]
  },
  {
   "cell_type": "markdown",
   "metadata": {},
   "source": [
    "##### Fluorescence"
   ]
  },
  {
   "cell_type": "code",
   "execution_count": 43,
   "metadata": {},
   "outputs": [],
   "source": [
    "## Distribution of flourescence intensity of a library of GFP mutants\n",
    "Facs=read.FCS(\"~/Dropbox/Wagner_Lab/Projects/Landscape_modeling/Paper_1_Robustness_Foldability/wt_yfp_distribution/5bs24_D8_D08_036.fcs\")\n",
    "WT=read.FCS(\"~/Dropbox/Wagner_Lab/Projects/Landscape_modeling/Paper_1_Robustness_Foldability/wt_yfp_distribution/wt1_D9_D09_037.fcs\")"
   ]
  },
  {
   "cell_type": "code",
   "execution_count": 44,
   "metadata": {},
   "outputs": [],
   "source": [
    "### Here we build a transition prabability matrix (P) for transitions between fluorescence intensities (X)\n",
    "\n",
    "### The range of accessible fluorescence intensity (in log units)\n",
    "X=seq(0, 10, 0.1)\n",
    "\n",
    "P=matrix(0, nrow = length(X), ncol = length(X))\n",
    "\n",
    "for (j in 1:length(X)){  ## Fill by row\n",
    "       \n",
    "data <- Facs@exprs[,8] ## Green intensity\n",
    "fit <- fitLN(data, base=10, eps=10, d=NULL, model='V', zeroPercentThr=0.2, logLikToLN=TRUE)\n",
    "\n",
    "## Fitting constants taken by modeling the brightness distribution\n",
    "mu1 <- fit[1]\n",
    "mu2 <- fit[2]\n",
    "sigma1 <- fit[3]\n",
    "sigma2 <-fit[4]\n",
    "P1=0.23\n",
    "\n",
    "    Xj=X[j]\n",
    "    P_drift=P1*(1/sqrt(2*sigma1*sigma1*pi))*exp(-((X-mu1)^2)/(2*sigma1*sigma1))+(1-P1)*(1/sqrt(2*sigma2*sigma2*pi))*exp(-((X-Xj)^2)/(2*sigma2*sigma2));\n",
    "    P_drift=P_drift/trapz(X,P_drift)\n",
    "     \n",
    "    P[j,] =P_drift\n",
    "\n",
    "}"
   ]
  },
  {
   "cell_type": "markdown",
   "metadata": {},
   "source": [
    "##### Stability"
   ]
  },
  {
   "cell_type": "code",
   "execution_count": 45,
   "metadata": {},
   "outputs": [],
   "source": [
    "DG=seq(-20,0, 0.2)\n",
    "States=seq(1, length(DG))"
   ]
  },
  {
   "cell_type": "code",
   "execution_count": 46,
   "metadata": {},
   "outputs": [],
   "source": [
    "### Here we build a transition prabability matrix (Q) for transitions between protein stabilities\n",
    "\n",
    "T=37;        #Temp in centigrade\n",
    "R=1.98e-3;   #Gas constant in Kcal/K/mol\n",
    "beta=1/(R*(273+T));   #Boltzman constant\n",
    "N=1e3;\n",
    "\n",
    "### Defining the transition probability matrix\n",
    "Q=matrix(0, nrow = length(DG), ncol = length(DG))\n",
    "\n",
    "for (i in 1:length(Q[,1])){  ## Fill by row\n",
    "    \n",
    "    DG_WT=DG[i]\n",
    "    DG_mut=DG\n",
    "    DDG=DG-DG_WT\n",
    "    \n",
    "    ### DDG distribution\n",
    "    \n",
    "    mu1=0.54;\n",
    "    sigma1=0.98;\n",
    "    mu2=2.05;\n",
    "    sigma2=1.91;\n",
    "    P1=0.49;\n",
    "    PDDG=P1*(1/sqrt(2*sigma1*sigma1*pi))*exp(-((DDG-mu1)^2)/(2*sigma1*sigma1))+(1-P1)*(1/sqrt(2*sigma2*sigma2*pi))*exp(-((DDG-mu2)^2)/(2*sigma2*sigma2));\n",
    "\n",
    "    P_int=PDDG\n",
    "    P_int=P_int/trapz(DDG, P_int)\n",
    "    \n",
    "    Q[i,]=P_int\n",
    "    \n",
    "}"
   ]
  },
  {
   "cell_type": "code",
   "execution_count": 47,
   "metadata": {},
   "outputs": [],
   "source": [
    "# simulate discrete Markov chains according to transition matrix (P or Q)\n",
    "run.mc.sim <- function(P, num.iters, init_state) {\n",
    "  \n",
    "  # number of possible states\n",
    "  num.states <- nrow(P)\n",
    "  \n",
    "  # stores the states X_t through time\n",
    "  states     <- numeric(num.iters)\n",
    "\n",
    "  # initialize variable for first state \n",
    "  states[1]    <- init_state\n",
    "\n",
    "  for(t in 2:num.iters) {\n",
    "    \n",
    "    # probability vector to simulate next state X_{t+1}\n",
    "    p  <- P[states[t-1], ]\n",
    "    \n",
    "    ## draw from multinomial and determine state\n",
    "    states[t] <-  which(rmultinom(1, 1, p) == 1)\n",
    "  }\n",
    "  return(states)\n",
    "}"
   ]
  },
  {
   "cell_type": "code",
   "execution_count": 48,
   "metadata": {
    "scrolled": false
   },
   "outputs": [],
   "source": [
    "Stability=list()\n",
    "\n",
    "\n",
    "## We set a limit for abundance levels in simulations\n",
    "limit=10\n",
    "colfunc<-colorRampPalette(c(\"blue\",\"red\"))\n",
    "cols=colfunc(limit)\n",
    "\n",
    "## We advance each chain one step which represents the MUTATION cycle\n",
    "num.iterations <- 2\n",
    "\n",
    "\n",
    "for (thr in 1:limit){\n",
    "States=seq(1, length(DG))\n",
    "\n",
    "## Mean and Standard deviation of abundance modeled with a log-normal distribution\n",
    "mean_q= thr*2 \n",
    "sd_q=0.4*mean_q\n",
    "\n",
    "## Number of Markov chains (each represents an individual within a population)\n",
    "num.chains     <- 10000\n",
    "\n",
    "## Matrices to record the NEXT state of Markov Chains for fluorescence input (X) and stability (DG)\n",
    "chain.states_P <- matrix(NA, ncol=num.chains, nrow=num.iterations)\n",
    "chain.states_Q <- matrix(NA, ncol=num.chains, nrow=num.iterations)\n",
    "\n",
    "## Empty vectors to record the average and standard deviation of protein fluorescence and stability\n",
    "X_mean=X_sd=K_mean=K_sd=DG_mean=DG_sd=rep(0, num.iterations)\n",
    "Q_mean=P_mean=rep(0, 50)\n",
    "\n",
    "## Number of evolved generations for each abundance level\n",
    "num.generations=6\n",
    "\n",
    "## Initial states of fluorescence and stability taken from experimental data (see Manuscript for details)\n",
    "init_p=60\n",
    "init_q=30\n",
    "\n",
    "    \n",
    "FL_list=P_list=Q_list=list()\n",
    "\n",
    "for (super in 1:num.generations){\n",
    "\n",
    "## Matrices to record the states of Markov Chains for fluorescence input (X) and stability (DG)\n",
    "P_states <- matrix(NA, ncol=num.chains, nrow=50)\n",
    "Q_states <- matrix(NA, ncol=num.chains, nrow=50)\n",
    "P_list=list()\n",
    "Q_list=list()\n",
    "    \n",
    "for(c in seq_len(num.chains)){\n",
    "  chain.states_P[,c] <- run.mc.sim(P, num.iters = num.iterations, init_state = init_p)\n",
    "  chain.states_Q[,c] <- run.mc.sim(Q, num.iters = num.iterations, init_state = init_q)     \n",
    "}\n",
    "  \n",
    "\n",
    "### Stability of GFPs within a population\n",
    "DG_pop=DG[chain.states_Q[num.iterations,]]\n",
    "\n",
    "### Stability factor (-16 kcal/mol represents GFP' WT stability)\n",
    "stab_factor_pop=1/(1+exp(DG_pop -(-16)))\n",
    "\n",
    "### Abundance variation within the population (Gene Expression Noise)\n",
    "\n",
    "Additive_A=rlnorm(length(DG_pop), meanlog = mean_q, sdlog = sd_q)\n",
    "\n",
    "Additive_A[which(Additive_A<0)]=NA\n",
    "            \n",
    "FL_linear=Additive_A*stab_factor_pop*X[chain.states_P[num.iterations,]] \n",
    "    \n",
    "\n",
    "##Selecting the top fluorescent molecules\n",
    "index_keep=which((FL_linear > quantile(FL_linear, probs =0.9, na.rm = TRUE)))  \n",
    "\n",
    "\n",
    "       \n",
    "## Plot the situation at generation 20\n",
    "if (super==20){\n",
    "\n",
    "par(mfrow = c(1,3), pty=\"s\")\n",
    "label=paste(\"A=\", as.character(mean_q))\n",
    "plot(Additive_A, DG_pop, col=\"gray\", main=label)\n",
    "lines(Additive_A[index_keep],DG_pop[index_keep],  col=\"red\", type=\"p\", pch=19)\n",
    "\n",
    "plot(Additive_A, FL_linear, type=\"p\",col=\"gray\")\n",
    "lines(Additive_A[index_keep], FL_linear[index_keep],  type=\"p\", pch=19, col=\"red\")\n",
    "\n",
    "plot(DG_pop, FL_linear, type=\"p\", col=\"gray\")\n",
    "lines(DG_pop[index_keep], FL_linear[index_keep],  type=\"p\", pch=19, col=\"red\")\n",
    " \n",
    "    \n",
    "}\n",
    "    \n",
    "\n",
    "if (length(index_keep) > 0) {\n",
    "    \n",
    "if (length(index_keep)>0){\n",
    "   FL_list[[super]]=FL_linear[index_keep] \n",
    "   \n",
    "}    \n",
    "\n",
    "    init_p=round(mean(chain.states_P[num.iterations ,index_keep], na.rm = TRUE))\n",
    "    init_q=round(mean(chain.states_Q[num.iterations ,index_keep], na.rm = TRUE))\n",
    "    \n",
    "    P_states[super,index_keep]=chain.states_P[num.iterations ,index_keep]\n",
    "    Q_states[super,index_keep]=chain.states_Q[num.iterations ,index_keep]\n",
    "    \n",
    "    P_list[[super]]=chain.states_P[num.iterations ,index_keep]\n",
    "    Q_list[[super]]=chain.states_Q[num.iterations ,index_keep]\n",
    "         \n",
    "    X_mean[super]=mean(FL_list[[super]], na.rm = TRUE)\n",
    "    X_sd[super]=sd(FL_list[[super]], na.rm = TRUE)\n",
    "    \n",
    "    K_mean[super]=mean(X[P_list[[super]]], na.rm = TRUE)\n",
    "    K_sd[super]=sd(X[P_list[[super]]], na.rm = TRUE)\n",
    "    \n",
    "    DG_mean[super]=mean(DG[Q_list[[super]]], na.rm = TRUE)\n",
    "    DG_sd[super]=sd(DG[Q_list[[super]]], na.rm = TRUE)\n",
    "    \n",
    "    \n",
    "} else {\n",
    "    \n",
    "    message (\"Selection purged the initial state\")\n",
    "}\n",
    "        \n",
    "}\n",
    "    \n",
    "Stability[[thr]]=DG[Q_list[[super]]]\n",
    "\n",
    "}"
   ]
  },
  {
   "cell_type": "code",
   "execution_count": 49,
   "metadata": {},
   "outputs": [],
   "source": [
    "i=1\n",
    "dose=1+1*i\n",
    "DOSE=rep(dose, length(Stability[[i]]))\n",
    "MAT=cbind(DOSE, Stability[[i]])\n",
    "         \n",
    "for (i in 2:10){\n",
    "    \n",
    "dose=2*i ## Abundance in the plot\n",
    "\n",
    "DOSE=rep(dose, length(Stability[[i]]))\n",
    "\n",
    "MAT=rbind(MAT, cbind(DOSE, Stability[[i]]))\n",
    "    \n",
    "}\n",
    "\n",
    "colnames(MAT)=c(\"Abundance\",\"Stability\")\n",
    "MAT=as.data.frame(MAT)"
   ]
  },
  {
   "cell_type": "code",
   "execution_count": 50,
   "metadata": {},
   "outputs": [
    {
     "data": {
      "image/png": "[encoded data removed]",
      "text/plain": [
       "plot without title"
      ]
     },
     "metadata": {
      "image/png": {
       "height": 420,
       "width": 420
      }
     },
     "output_type": "display_data"
    }
   ],
   "source": [
    "library(ggplot2)\n",
    "\n",
    "MAT$Abundance <- as.factor(MAT$Abundance)\n",
    "\n",
    "p <- ggplot(MAT, aes(x=Abundance, y=Stability)) + \n",
    "  geom_boxplot()\n",
    "p\n"
   ]
  },
  {
   "cell_type": "code",
   "execution_count": null,
   "metadata": {},
   "outputs": [],
   "source": []
  },
  {
   "cell_type": "code",
   "execution_count": null,
   "metadata": {},
   "outputs": [],
   "source": []
  }
 ],
 "metadata": {
  "kernelspec": {
   "display_name": "R",
   "language": "R",
   "name": "ir"
  },
  "language_info": {
   "codemirror_mode": "r",
   "file_extension": ".r",
   "mimetype": "text/x-r-source",
   "name": "R",
   "pygments_lexer": "r",
   "version": "3.6.3"
  }
 },
 "nbformat": 4,
 "nbformat_minor": 2
}
